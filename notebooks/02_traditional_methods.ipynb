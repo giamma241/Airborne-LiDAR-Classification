{
 "cells": [
  {
   "cell_type": "markdown",
   "id": "1a6ad1fd",
   "metadata": {},
   "source": [
    "### Apply traditional alogorithms to classify data"
   ]
  },
  {
   "cell_type": "code",
   "execution_count": null,
   "id": "4dc7c25c",
   "metadata": {},
   "outputs": [],
   "source": [
    "# -*- coding: utf-8 -*-\n",
    "\n",
    "import laspy\n",
    "import numpy as np\n",
    "import matplotlib.pyplot as plt\n",
    "import sys\n",
    "sys.path.append(\"../src\")\n",
    "from preprocessing.summary_stats import summarize_las"
   ]
  },
  {
   "cell_type": "markdown",
   "id": "9058a0cd",
   "metadata": {},
   "source": [
    "### Summary stats"
   ]
  },
  {
   "cell_type": "code",
   "execution_count": null,
   "id": "49b0045d",
   "metadata": {},
   "outputs": [],
   "source": [
    "# load file .las\n",
    "las = laspy.read(\"../data/processed/raw_data_downsampled_1m.las\")\n",
    "\n",
    "summarize_las(las)"
   ]
  },
  {
   "cell_type": "code",
   "execution_count": null,
   "id": "185cbf1c",
   "metadata": {},
   "outputs": [],
   "source": [
    "# load file .las\n",
    "las = laspy.read(\"../data/processed/raw_data_cleaned_1m.las\")\n",
    "\n",
    "summarize_las(las)"
   ]
  },
  {
   "cell_type": "code",
   "execution_count": null,
   "id": "4252319d",
   "metadata": {},
   "outputs": [],
   "source": [
    "# load file .las\n",
    "las = laspy.read(\"../data/processed/raw_data_cleaned_20m.las\")\n",
    "\n",
    "summarize_las(las)"
   ]
  },
  {
   "cell_type": "markdown",
   "id": "79c05e4e",
   "metadata": {},
   "source": [
    "### Ground filter"
   ]
  },
  {
   "cell_type": "code",
   "execution_count": null,
   "id": "b8c8f599",
   "metadata": {},
   "outputs": [],
   "source": [
    "from traditional_methods.csf_wrapper import run_csf\n",
    "\n",
    "# define input, output\n",
    "input_path = \"../data/raw/raw_data_tscan.las\"\n",
    "output_path = \"../data/processed/ground_filtered_csf.las\"\n",
    "\n",
    "# CSF params\n",
    "csf_params = {\n",
    "    \"rigidness\": 2,\n",
    "    \"step\": 0.65,\n",
    "}\n",
    "\n",
    "output_file_csf = run_csf(\n",
    "    input_file=input_path,\n",
    "    output_file=output_path,\n",
    "    **csf_params\n",
    ")"
   ]
  },
  {
   "cell_type": "code",
   "execution_count": null,
   "id": "b70b77c8",
   "metadata": {},
   "outputs": [],
   "source": [
    "las = laspy.read(output_file_csf)\n",
    "summarize_las(las)"
   ]
  },
  {
   "cell_type": "code",
   "execution_count": null,
   "id": "f61ce37d",
   "metadata": {},
   "outputs": [],
   "source": [
    "from traditional_methods.pmf_wrapper import run_pmf\n",
    "\n",
    "# define input, output\n",
    "input_path = \"../data/raw/raw_data_tscan.las\"\n",
    "output_path = \"../data/processed/ground_filtered_pmf.las\"\n",
    "\n",
    "# PMF params\n",
    "pmf_params = {\n",
    "    \"max_window_size\": 33,\n",
    "    \"slope\": 1.0,\n",
    "    \"initial_distance\": 0.5,\n",
    "    \"cell_size\": 1.0,\n",
    "}\n",
    "\n",
    "output_file_pmf = run_pmf(\n",
    "    input_file=input_path,\n",
    "    output_file=output_path,\n",
    "    **pmf_params\n",
    ")"
   ]
  },
  {
   "cell_type": "code",
   "execution_count": null,
   "id": "a113a660",
   "metadata": {},
   "outputs": [],
   "source": [
    "las = laspy.read(output_file_pmf)\n",
    "summarize_las(las)"
   ]
  },
  {
   "cell_type": "code",
   "execution_count": null,
   "id": "fcebb903",
   "metadata": {},
   "outputs": [],
   "source": [
    "from traditional_methods.smrf_wrapper import run_smrf\n",
    "\n",
    "# define input, output\n",
    "input_path = \"../data/processed/raw_data_tscan.las\"\n",
    "output_path = \"../data/processed/ground_filtered_smrf.las\"\n",
    "\n",
    "# SMRF params\n",
    "smrf_params = {\n",
    "    \"window\": 18.0,\n",
    "    \"slope\": 0.15,\n",
    "    \"threshold\": 0.5,\n",
    "    \"window_increment\": 16.0,\n",
    "}\n",
    "\n",
    "output_file_smrf = run_smrf(\n",
    "    input_file=input_path,\n",
    "    output_file=output_path,\n",
    "    **smrf_params\n",
    ")"
   ]
  },
  {
   "cell_type": "code",
   "execution_count": null,
   "id": "a9fc2b92",
   "metadata": {},
   "outputs": [],
   "source": [
    "las = laspy.read(output_file_smrf)\n",
    "summarize_las(las)"
   ]
  },
  {
   "cell_type": "markdown",
   "id": "b388c70e",
   "metadata": {},
   "source": [
    "### Evalution Filter"
   ]
  },
  {
   "cell_type": "code",
   "execution_count": null,
   "id": "53f1456e",
   "metadata": {},
   "outputs": [],
   "source": [
    "import laspy\n",
    "import numpy as np\n",
    "from evaluation.metrics import evaluate_classification\n",
    "\n",
    "# load data\n",
    "las_pred = laspy.read(\"../data/processed/ground_filtered_pmf.las\")\n",
    "las_gt   = laspy.read(\"../data/ground_truth/ground_truth.las\")\n",
    "\n",
    "# assuming classification is stored in the 'classification' attribute\n",
    "# and both las_pred and las_gt have the same structure\n",
    "pred_labels = las_pred.classification\n",
    "gt_labels = las_gt.classification\n",
    "\n",
    "# evaluate\n",
    "results = evaluate_classification(pred_labels, gt_labels)\n",
    "print(results)"
   ]
  },
  {
   "cell_type": "code",
   "execution_count": null,
   "id": "e05c2a5e",
   "metadata": {},
   "outputs": [],
   "source": [
    "from scipy.spatial import cKDTree\n",
    "\n",
    "# coordinates\n",
    "coords_pred = np.vstack((las_pred.x, las_pred.y, las_pred.z)).T\n",
    "coords_gt   = np.vstack((las_gt.x, las_gt.y, las_gt.z)).T\n",
    "\n",
    "tree = cKDTree(coords_gt)\n",
    "dists, idxs = tree.query(coords_pred, k=1)\n",
    "\n",
    "# threshold: distance to accept the match (es. 0.5m)\n",
    "valid = dists < 0.5\n",
    "pred_labels = las_pred.classification[valid]\n",
    "gt_labels = las_gt.classification[idxs[valid]]\n",
    "\n",
    "# Evaluation\n",
    "results = evaluate_classification(pred_labels, gt_labels)"
   ]
  },
  {
   "cell_type": "code",
   "execution_count": null,
   "id": "6ee4b569",
   "metadata": {},
   "outputs": [],
   "source": []
  },
  {
   "cell_type": "code",
   "execution_count": null,
   "id": "d7cec56f",
   "metadata": {},
   "outputs": [],
   "source": [
    "import open3d as o3d\n",
    "import numpy as np\n",
    "\n",
    "pcd = o3d.geometry.PointCloud()\n",
    "pcd.points = o3d.utility.Vector3dVector(np.vstack((las.x, las.y, las.z)).T)\n",
    "\n",
    "# Color by elevation\n",
    "z_norm = (las.z - las.z.min()) / (las.z.max() - las.z.min())\n",
    "pcd.colors = o3d.utility.Vector3dVector(plt.cm.viridis(z_norm)[:, :3])\n",
    "\n",
    "o3d.visualization.draw_geometries([pcd])"
   ]
  }
 ],
 "metadata": {
  "kernelspec": {
   "display_name": "lidar",
   "language": "python",
   "name": "python3"
  },
  "language_info": {
   "codemirror_mode": {
    "name": "ipython",
    "version": 3
   },
   "file_extension": ".py",
   "mimetype": "text/x-python",
   "name": "python",
   "nbconvert_exporter": "python",
   "pygments_lexer": "ipython3",
   "version": "3.10.18"
  }
 },
 "nbformat": 4,
 "nbformat_minor": 5
}
