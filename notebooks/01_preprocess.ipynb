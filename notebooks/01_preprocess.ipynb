{
 "cells": [
  {
   "cell_type": "markdown",
   "id": "1a6ad1fd",
   "metadata": {},
   "source": [
    "### Explore data"
   ]
  },
  {
   "cell_type": "code",
   "execution_count": null,
   "id": "4dc7c25c",
   "metadata": {},
   "outputs": [],
   "source": [
    "# -*- coding: utf-8 -*-\n",
    "\n",
    "import laspy\n",
    "import numpy as np\n",
    "import matplotlib.pyplot as plt\n",
    "import sys\n",
    "sys.path.append(\"../src\")\n",
    "from preprocessing.summary_stats import summarize_las"
   ]
  },
  {
   "cell_type": "code",
   "execution_count": null,
   "id": "6eff635c",
   "metadata": {},
   "outputs": [],
   "source": [
    "# load file .las\n",
    "las = laspy.read(r\"../data/raw/raw_data.las\")\n",
    "\n",
    "# For laspy\n",
    "summarize_las(las)"
   ]
  },
  {
   "cell_type": "code",
   "execution_count": null,
   "id": "05045bb5",
   "metadata": {},
   "outputs": [],
   "source": [
    "# stats\n",
    "z = las.z\n",
    "intensity = las.intensity\n",
    "classification = las.classification\n",
    "\n",
    "# instogram\n",
    "unique_classes, counts = np.unique(classification, return_counts=True)\n",
    "plt.bar(unique_classes, counts)\n",
    "plt.xlabel(\"Classes\")\n",
    "plt.ylabel(\"Number of points\")\n",
    "plt.title(\"Distribution of LiDAR points by class\")\n",
    "plt.show()"
   ]
  },
  {
   "cell_type": "code",
   "execution_count": null,
   "id": "d642f6a0",
   "metadata": {},
   "outputs": [],
   "source": [
    "# Check for outliers\n",
    "\n",
    "# negative or extreme Z values\n",
    "print(\"Z below 0:\", (z < 0).sum())\n",
    "print(\"Z above 4000m:\", (z > 4000).sum())\n",
    "\n",
    "# check for invalid intensity values\n",
    "print(\"Intensity < 0:\", (intensity < 0).sum())"
   ]
  },
  {
   "cell_type": "markdown",
   "id": "5df9992b",
   "metadata": {},
   "source": [
    "### Preprocess pipeline to clean data"
   ]
  },
  {
   "cell_type": "code",
   "execution_count": null,
   "id": "d9e32a7c",
   "metadata": {},
   "outputs": [],
   "source": [
    "from preprocessing.preprocess import run_pdal_pipeline\n",
    "\n",
    "pipeline = run_pdal_pipeline(\"../config/pdal_pipeline_downsample.json\")\n",
    "\n",
    "if pipeline.arrays:  # Check if pipeline executed successfully\n",
    "    print(f\"PDAL pipeline executed successfully!\")\n",
    "    print(f\"Processed {len(pipeline.arrays[0])} points\")\n",
    "    print(f\"Output metadata: {pipeline.metadata}\")\n",
    "else:\n",
    "    print(\"PDAL pipeline execution failed\")\n",
    "    print(f\"Error messages: {pipeline.error}\")"
   ]
  },
  {
   "cell_type": "code",
   "execution_count": null,
   "id": "1486dbde",
   "metadata": {},
   "outputs": [],
   "source": [
    "# load file .las\n",
    "las = laspy.read(r\"../data/processed/raw_data_tscan_1m.las\")\n",
    "\n",
    "summarize_las(las)"
   ]
  },
  {
   "cell_type": "markdown",
   "id": "97257a62",
   "metadata": {},
   "source": [
    "### Create raw data from classified file"
   ]
  },
  {
   "cell_type": "code",
   "execution_count": null,
   "id": "4b1d8699",
   "metadata": {},
   "outputs": [],
   "source": [
    "import json\n",
    "import pdal\n",
    "\n",
    "raw_las = \"../data/raw/raw_data.las\"\n",
    "terr_las = \"../data/ground_truth/classified.las\"\n",
    "out_las = \"../data/raw/raw_data_tscan.las\"   # comparable file\n",
    "\n",
    "pipeline_json = {\n",
    "    \"pipeline\": [\n",
    "        {\n",
    "            \"type\": \"readers.las\",\n",
    "            \"filename\": terr_las\n",
    "        },\n",
    "        {\n",
    "            \"type\": \"filters.assign\",\n",
    "            \"assignment\": \"Classification[:]=1\"\n",
    "        },\n",
    "        {\n",
    "            \"type\": \"writers.las\",\n",
    "            \"filename\": out_las,\n",
    "            \"extra_dims\": \"all\"\n",
    "        }\n",
    "    ]\n",
    "}\n",
    "\n",
    "p = pdal.Pipeline(json.dumps(pipeline_json))\n",
    "p.execute()\n",
    "print(f\"Wrote comparable file: {out_las}\")"
   ]
  },
  {
   "cell_type": "markdown",
   "id": "9058a0cd",
   "metadata": {},
   "source": [
    "### Summary stats"
   ]
  },
  {
   "cell_type": "code",
   "execution_count": null,
   "id": "49b0045d",
   "metadata": {},
   "outputs": [],
   "source": [
    "# load file .las\n",
    "las = laspy.read(\"../data/processed/raw_data_downsampled_1m.las\")\n",
    "\n",
    "summarize_las(las)"
   ]
  },
  {
   "cell_type": "code",
   "execution_count": null,
   "id": "185cbf1c",
   "metadata": {},
   "outputs": [],
   "source": [
    "# load file .las\n",
    "las = laspy.read(\"../data/processed/raw_data_cleaned_1m.las\")\n",
    "\n",
    "summarize_las(las)"
   ]
  },
  {
   "cell_type": "code",
   "execution_count": null,
   "id": "4252319d",
   "metadata": {},
   "outputs": [],
   "source": [
    "# load file .las\n",
    "las = laspy.read(\"../data/processed/raw_data_cleaned_20m.las\")\n",
    "\n",
    "summarize_las(las)"
   ]
  }
 ],
 "metadata": {
  "kernelspec": {
   "display_name": "lidar",
   "language": "python",
   "name": "python3"
  },
  "language_info": {
   "codemirror_mode": {
    "name": "ipython",
    "version": 3
   },
   "file_extension": ".py",
   "mimetype": "text/x-python",
   "name": "python",
   "nbconvert_exporter": "python",
   "pygments_lexer": "ipython3",
   "version": "3.10.18"
  }
 },
 "nbformat": 4,
 "nbformat_minor": 5
}
